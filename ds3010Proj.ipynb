{
  "nbformat": 4,
  "nbformat_minor": 0,
  "metadata": {
    "colab": {
      "provenance": [],
      "include_colab_link": true
    },
    "kernelspec": {
      "name": "python3",
      "display_name": "Python 3"
    },
    "language_info": {
      "name": "python"
    }
  },
  "cells": [
    {
      "cell_type": "markdown",
      "metadata": {
        "id": "view-in-github",
        "colab_type": "text"
      },
      "source": [
        "<a href=\"https://colab.research.google.com/github/jthurber24/datascience3/blob/main/ds3010Proj.ipynb\" target=\"_parent\"><img src=\"https://colab.research.google.com/assets/colab-badge.svg\" alt=\"Open In Colab\"/></a>"
      ]
    },
    {
      "cell_type": "code",
      "execution_count": null,
      "metadata": {
        "colab": {
          "base_uri": "https://localhost:8080/"
        },
        "id": "12Z5F50TJskP",
        "outputId": "ba37788d-f45a-4ab3-e108-00a7ed564584"
      },
      "outputs": [
        {
          "output_type": "stream",
          "name": "stdout",
          "text": [
            "                      Diabetes_012    HighBP  HighChol  CholCheck       BMI  \\\n",
            "Diabetes_012              1.000000  0.271799  0.206232   0.064943  0.196293   \n",
            "HighBP                    0.271799  1.000000  0.295426   0.098435  0.188701   \n",
            "HighChol                  0.206232  0.295426  1.000000   0.086366  0.093764   \n",
            "CholCheck                 0.064943  0.098435  0.086366   1.000000  0.032768   \n",
            "BMI                       0.196293  0.188701  0.093764   0.032768  1.000000   \n",
            "Smoker                    0.059623  0.102754  0.087396  -0.011404  0.011155   \n",
            "Stroke                    0.103475  0.127638  0.088684   0.022348  0.012920   \n",
            "HeartDiseaseorAttack      0.183291  0.209248  0.172477   0.041136  0.045915   \n",
            "PhysActivity             -0.120250 -0.121743 -0.079298   0.005820 -0.137495   \n",
            "Fruits                   -0.040222 -0.041750 -0.040696   0.023471 -0.084884   \n",
            "Veggies                  -0.060257 -0.063631 -0.040998   0.002643 -0.058841   \n",
            "HvyAlcoholConsump        -0.056774 -0.004217 -0.013100  -0.018592 -0.044606   \n",
            "AnyHealthcare             0.009827  0.035501  0.044650   0.115998 -0.018818   \n",
            "NoDocbcCost               0.038323  0.013055  0.011219  -0.063401  0.051348   \n",
            "GenHlth                   0.299429  0.296557  0.201295   0.041388  0.212448   \n",
            "MentHlth                  0.070702  0.053282  0.058375  -0.011151  0.074349   \n",
            "PhysHlth                  0.173946  0.156590  0.118409   0.032497  0.103841   \n",
            "DiffWalk                  0.223601  0.221810  0.139452   0.040781  0.174596   \n",
            "Sex                       0.028183  0.050038  0.031689  -0.022927  0.040730   \n",
            "Age                       0.178610  0.338480  0.270483   0.088204 -0.047562   \n",
            "Education                -0.127689 -0.131392 -0.057631   0.007899 -0.094140   \n",
            "Income                   -0.163323 -0.159393 -0.071701   0.024282 -0.087426   \n",
            "\n",
            "                        Smoker    Stroke  HeartDiseaseorAttack  PhysActivity  \\\n",
            "Diabetes_012          0.059623  0.103475              0.183291     -0.120250   \n",
            "HighBP                0.102754  0.127638              0.209248     -0.121743   \n",
            "HighChol              0.087396  0.088684              0.172477     -0.079298   \n",
            "CholCheck            -0.011404  0.022348              0.041136      0.005820   \n",
            "BMI                   0.011155  0.012920              0.045915     -0.137495   \n",
            "Smoker                1.000000  0.060981              0.111161     -0.088305   \n",
            "Stroke                0.060981  1.000000              0.208334     -0.069749   \n",
            "HeartDiseaseorAttack  0.111161  0.208334              1.000000     -0.084543   \n",
            "PhysActivity         -0.088305 -0.069749             -0.084543      1.000000   \n",
            "Fruits               -0.072508 -0.018412             -0.019114      0.139763   \n",
            "Veggies              -0.026923 -0.042013             -0.035300      0.148197   \n",
            "HvyAlcoholConsump     0.100888 -0.016623             -0.026905      0.012166   \n",
            "AnyHealthcare        -0.021657  0.009296              0.020871      0.036011   \n",
            "NoDocbcCost           0.048290  0.039958              0.033001     -0.059690   \n",
            "GenHlth               0.157695  0.172903              0.248180     -0.262783   \n",
            "MentHlth              0.082725  0.074419              0.068366     -0.124804   \n",
            "PhysHlth              0.114023  0.148555              0.175423     -0.217859   \n",
            "DiffWalk              0.117654  0.174132              0.206998     -0.254646   \n",
            "Sex                   0.093253 -0.001440              0.084793      0.029882   \n",
            "Age                   0.130278  0.125699              0.213439     -0.087682   \n",
            "Education            -0.150502 -0.069422             -0.084415      0.191131   \n",
            "Income               -0.117360 -0.127452             -0.132634      0.187846   \n",
            "\n",
            "                        Fruits  ...  AnyHealthcare  NoDocbcCost   GenHlth  \\\n",
            "Diabetes_012         -0.040222  ...       0.009827     0.038323  0.299429   \n",
            "HighBP               -0.041750  ...       0.035501     0.013055  0.296557   \n",
            "HighChol             -0.040696  ...       0.044650     0.011219  0.201295   \n",
            "CholCheck             0.023471  ...       0.115998    -0.063401  0.041388   \n",
            "BMI                  -0.084884  ...      -0.018818     0.051348  0.212448   \n",
            "Smoker               -0.072508  ...      -0.021657     0.048290  0.157695   \n",
            "Stroke               -0.018412  ...       0.009296     0.039958  0.172903   \n",
            "HeartDiseaseorAttack -0.019114  ...       0.020871     0.033001  0.248180   \n",
            "PhysActivity          0.139763  ...       0.036011    -0.059690 -0.262783   \n",
            "Fruits                1.000000  ...       0.023529    -0.042431 -0.097530   \n",
            "Veggies               0.257595  ...       0.029635    -0.030955 -0.121622   \n",
            "HvyAlcoholConsump    -0.033399  ...      -0.005006     0.004076 -0.040958   \n",
            "AnyHealthcare         0.023529  ...       1.000000    -0.242348 -0.051496   \n",
            "NoDocbcCost          -0.042431  ...      -0.242348     1.000000  0.166630   \n",
            "GenHlth              -0.097530  ...      -0.051496     0.166630  1.000000   \n",
            "MentHlth             -0.064309  ...      -0.053614     0.199976  0.295576   \n",
            "PhysHlth             -0.044233  ...      -0.012849     0.150756  0.519468   \n",
            "DiffWalk             -0.044296  ...       0.003397     0.120682  0.447834   \n",
            "Sex                  -0.090077  ...      -0.019838    -0.048071 -0.009198   \n",
            "Age                   0.064360  ...       0.148424    -0.127079  0.141844   \n",
            "Education             0.097490  ...       0.138877    -0.108106 -0.281058   \n",
            "Income                0.068629  ...       0.172195    -0.208032 -0.352139   \n",
            "\n",
            "                      MentHlth  PhysHlth  DiffWalk       Sex       Age  \\\n",
            "Diabetes_012          0.070702  0.173946  0.223601  0.028183  0.178610   \n",
            "HighBP                0.053282  0.156590  0.221810  0.050038  0.338480   \n",
            "HighChol              0.058375  0.118409  0.139452  0.031689  0.270483   \n",
            "CholCheck            -0.011151  0.032497  0.040781 -0.022927  0.088204   \n",
            "BMI                   0.074349  0.103841  0.174596  0.040730 -0.047562   \n",
            "Smoker                0.082725  0.114023  0.117654  0.093253  0.130278   \n",
            "Stroke                0.074419  0.148555  0.174132 -0.001440  0.125699   \n",
            "HeartDiseaseorAttack  0.068366  0.175423  0.206998  0.084793  0.213439   \n",
            "PhysActivity         -0.124804 -0.217859 -0.254646  0.029882 -0.087682   \n",
            "Fruits               -0.064309 -0.044233 -0.044296 -0.090077  0.064360   \n",
            "Veggies              -0.058441 -0.063714 -0.077556 -0.066920 -0.011013   \n",
            "HvyAlcoholConsump     0.025367 -0.025119 -0.037078  0.000690 -0.032982   \n",
            "AnyHealthcare        -0.053614 -0.012849  0.003397 -0.019838  0.148424   \n",
            "NoDocbcCost           0.199976  0.150756  0.120682 -0.048071 -0.127079   \n",
            "GenHlth               0.295576  0.519468  0.447834 -0.009198  0.141844   \n",
            "MentHlth              1.000000  0.350060  0.233274 -0.081459 -0.094037   \n",
            "PhysHlth              0.350060  1.000000  0.472342 -0.039661  0.099156   \n",
            "DiffWalk              0.233274  0.472342  1.000000 -0.069217  0.199864   \n",
            "Sex                  -0.081459 -0.039661 -0.069217  1.000000 -0.033031   \n",
            "Age                  -0.094037  0.099156  0.199864 -0.033031  1.000000   \n",
            "Education            -0.098279 -0.143109 -0.181818  0.028218 -0.072152   \n",
            "Income               -0.204149 -0.257112 -0.307350  0.122751 -0.106361   \n",
            "\n",
            "                      Education    Income  \n",
            "Diabetes_012          -0.127689 -0.163323  \n",
            "HighBP                -0.131392 -0.159393  \n",
            "HighChol              -0.057631 -0.071701  \n",
            "CholCheck              0.007899  0.024282  \n",
            "BMI                   -0.094140 -0.087426  \n",
            "Smoker                -0.150502 -0.117360  \n",
            "Stroke                -0.069422 -0.127452  \n",
            "HeartDiseaseorAttack  -0.084415 -0.132634  \n",
            "PhysActivity           0.191131  0.187846  \n",
            "Fruits                 0.097490  0.068629  \n",
            "Veggies                0.152007  0.150414  \n",
            "HvyAlcoholConsump      0.022563  0.055477  \n",
            "AnyHealthcare          0.138877  0.172195  \n",
            "NoDocbcCost           -0.108106 -0.208032  \n",
            "GenHlth               -0.281058 -0.352139  \n",
            "MentHlth              -0.098279 -0.204149  \n",
            "PhysHlth              -0.143109 -0.257112  \n",
            "DiffWalk              -0.181818 -0.307350  \n",
            "Sex                    0.028218  0.122751  \n",
            "Age                   -0.072152 -0.106361  \n",
            "Education              1.000000  0.451037  \n",
            "Income                 0.451037  1.000000  \n",
            "\n",
            "[22 rows x 22 columns]\n"
          ]
        }
      ],
      "source": [
        "import numpy as np\n",
        "import pandas as pd\n",
        "import statsmodels as sm\n",
        "import statsmodels.api as sm\n",
        "from sklearn import metrics, neighbors\n",
        "import matplotlib.pyplot as plt\n",
        "\n",
        "data = pd.read_csv('DiabetesSample.csv') #calls the Diabetes file that's been uploaded into colab\n",
        "#print(data) \n",
        "\n",
        "corMat = data.corr() # creates a correlation matrix\n",
        "print(corMat)\n"
      ]
    },
    {
      "cell_type": "code",
      "source": [
        "pred = data[['HighBP', 'HighChol', 'CholCheck', 'BMI', 'Smoker', 'Stroke',\n",
        "             'HeartDiseaseorAttack', 'PhysActivity', 'HvyAlcoholConsump',\n",
        "             'AnyHealthcare', 'GenHlth', 'MentHlth', 'DiffWalk',\n",
        "             'Sex', 'Age', 'Education', 'Income']] # gets predictors from the dataframe (cols)\n",
        "res = data['Diabetes_012'] \n",
        "\n",
        "print('Counts of each value in the diabetes columns')\n",
        "print('no diabetes: ', data['Diabetes_012'].value_counts()[0])\n",
        "print('pre diabetes: ',data['Diabetes_012'].value_counts()[1])\n",
        "print('diabetes: ',data['Diabetes_012'].value_counts()[2])\n"
      ],
      "metadata": {
        "colab": {
          "base_uri": "https://localhost:8080/"
        },
        "id": "n9xmrZ8esji7",
        "outputId": "655de740-ef6a-4f51-f12a-2657475ea943"
      },
      "execution_count": null,
      "outputs": [
        {
          "output_type": "stream",
          "name": "stdout",
          "text": [
            "Counts of each value in the diabetes columns\n",
            "no diabetes:  67522\n",
            "pre diabetes:  1541\n",
            "diabetes:  10937\n"
          ]
        }
      ]
    },
    {
      "cell_type": "code",
      "source": [
        "from sklearn.model_selection import train_test_split\n",
        "x_train, x_test, y_train, y_test = train_test_split(pred, res, test_size=0.30, train_size=0.70)\n",
        "\n",
        "knnMod = neighbors.KNeighborsClassifier(n_neighbors = 1).fit(x_train, y_train) # performs KNN with k=1 on above data\n",
        "print(knnMod)\n",
        "predknnMod = knnMod.predict(x_test) # tests model\n",
        "knncMat = metrics.confusion_matrix(y_test, predknnMod) # creates a confusion matrix\n",
        "print(knncMat)\n",
        "accuracy = metrics.accuracy_score(y_test, predknnMod) # computes the accuracy score \n",
        "print(\"Accuracy: \", accuracy) \n",
        "\n",
        "knnMod = neighbors.KNeighborsClassifier(n_neighbors = 3).fit(x_train, y_train) # performs KNN with k=3 on above data\n",
        "print(knnMod)\n",
        "predknnMod = knnMod.predict(x_test) # tests model\n",
        "knncMat = metrics.confusion_matrix(y_test, predknnMod) # creates a confusion matrix\n",
        "print(knncMat)\n",
        "accuracy = metrics.accuracy_score(y_test, predknnMod) # computes the accuracy score \n",
        "print(\"Accuracy: \", accuracy) \n",
        "\n",
        "knnMod = neighbors.KNeighborsClassifier(n_neighbors = 5).fit(x_train, y_train) ## performs KNN with k=5 on above data\n",
        "print(knnMod)\n",
        "predknnMod = knnMod.predict(x_test)\n",
        "knncMat = metrics.confusion_matrix(y_test, predknnMod)\n",
        "print(knncMat)\n",
        "accuracy = metrics.accuracy_score(y_test, predknnMod) # computes the accuracy score\n",
        "print(\"Accuracy: \", accuracy)\n",
        "\n",
        "knnMod = neighbors.KNeighborsClassifier(n_neighbors = 7).fit(x_train, y_train) ## performs KNN with k=7 on above data\n",
        "print(knnMod)\n",
        "predknnMod = knnMod.predict(x_test)\n",
        "knncMat = metrics.confusion_matrix(y_test, predknnMod)\n",
        "print(knncMat)\n",
        "accuracy = metrics.accuracy_score(y_test, predknnMod) # computes the accuracy score \n",
        "print(\"Accuracy: \", accuracy)\n",
        "\n",
        "knnMod = neighbors.KNeighborsClassifier(n_neighbors = 10).fit(x_train, y_train) ## performs KNN with k=7 on above data\n",
        "print(knnMod)\n",
        "predknnMod = knnMod.predict(x_test)\n",
        "knncMat = metrics.confusion_matrix(y_test, predknnMod)\n",
        "print(knncMat)\n",
        "accuracy = metrics.accuracy_score(y_test, predknnMod) # computes the accuracy score\n",
        "print(\"Accuracy: \", accuracy)"
      ],
      "metadata": {
        "colab": {
          "base_uri": "https://localhost:8080/"
        },
        "id": "il84n4nnslzH",
        "outputId": "8c682571-5294-4319-aeeb-f7d491ed3392"
      },
      "execution_count": null,
      "outputs": [
        {
          "output_type": "stream",
          "name": "stdout",
          "text": [
            "KNeighborsClassifier(n_neighbors=1)\n",
            "[[17774   382  2119]\n",
            " [  323    12   102]\n",
            " [ 2245   113   930]]\n",
            "Accuracy:  0.7798333333333334\n",
            "KNeighborsClassifier(n_neighbors=3)\n",
            "[[19062    27  1186]\n",
            " [  364     0    73]\n",
            " [ 2528    12   748]]\n",
            "Accuracy:  0.8254166666666667\n",
            "KNeighborsClassifier()\n",
            "[[19369    13   893]\n",
            " [  378     1    58]\n",
            " [ 2647    12   629]]\n",
            "Accuracy:  0.8332916666666667\n",
            "KNeighborsClassifier(n_neighbors=7)\n",
            "[[19541     1   733]\n",
            " [  388     0    49]\n",
            " [ 2712     1   575]]\n",
            "Accuracy:  0.8381666666666666\n",
            "KNeighborsClassifier(n_neighbors=10)\n",
            "[[19811     0   464]\n",
            " [  404     0    33]\n",
            " [ 2866     0   422]]\n",
            "Accuracy:  0.8430416666666667\n"
          ]
        }
      ]
    },
    {
      "cell_type": "code",
      "source": [
        "import matplotlib.pyplot as plt \n",
        "from sklearn.model_selection import cross_val_score\n",
        "%matplotlib inline\n",
        "# choose k between 1 and 10\n",
        "k_range = range(1, 10)\n",
        "k_scores = []\n",
        "\n",
        "# get average of cross  val for each k from 1 to 10\n",
        "for k in k_range:\n",
        "    knn = neighbors.KNeighborsClassifier(n_neighbors=k)\n",
        "    scores = cross_val_score(knn, pred, res, cv=5, scoring='accuracy')\n",
        "    k_scores.append(scores.mean())\n",
        "    \n",
        "# plot\n",
        "plt.plot(k_range, k_scores)\n",
        "plt.xlabel('Value of K')\n",
        "plt.ylabel('Cross-Val Accuracy')\n",
        "plt.show()"
      ],
      "metadata": {
        "colab": {
          "base_uri": "https://localhost:8080/",
          "height": 279
        },
        "id": "gRP495CJIao3",
        "outputId": "95f6a8ce-efb0-41be-a448-0db372ac43c6"
      },
      "execution_count": null,
      "outputs": [
        {
          "output_type": "display_data",
          "data": {
            "text/plain": [
              "<Figure size 432x288 with 1 Axes>"
            ],
            "image/png": "[encoded data removed]"
          },
          "metadata": {
            "needs_background": "light"
          }
        }
      ]
    },
    {
      "cell_type": "code",
      "source": [
        "costMat = [[0, 1, 10],\n",
        "           [5, 0, 2],\n",
        "           [10, 1, -5]]\n",
        "\n",
        "knnMod = neighbors.KNeighborsClassifier(n_neighbors = 8).fit(x_train, y_train) \n",
        "print(knnMod)\n",
        "predknnMod = knnMod.predict(x_test)\n",
        "knncMat = metrics.confusion_matrix(y_test, predknnMod)\n",
        "print(knncMat)\n",
        "accuracy = metrics.accuracy_score(y_test, predknnMod) # computes the accuracy score\n",
        "print(\"Accuracy: \", accuracy)"
      ],
      "metadata": {
        "colab": {
          "base_uri": "https://localhost:8080/"
        },
        "id": "v0aTUHK5Otb4",
        "outputId": "029e012c-25c3-4825-c47f-5bfba9191bcb"
      },
      "execution_count": null,
      "outputs": [
        {
          "output_type": "stream",
          "name": "stdout",
          "text": [
            "KNeighborsClassifier(n_neighbors=8)\n",
            "[[19771     0   504]\n",
            " [  396     0    41]\n",
            " [ 2861     1   426]]\n",
            "Accuracy:  0.8415416666666666\n"
          ]
        }
      ]
    },
    {
      "cell_type": "code",
      "source": [
        "from sklearn import tree\n",
        "\n",
        "treeClass = tree.DecisionTreeClassifier(random_state=1) # creates the tree\n",
        "trainTree = treeClass.fit(x_train, y_train) # trains the model\n",
        "\n",
        "from sklearn import metrics\n",
        "\n",
        "predTree = trainTree.predict(x_test) # tests the model\\\n",
        "accuracy = metrics.accuracy_score(y_test, predTree) # computes the accuracy score \n",
        "# print(accuracy)\n",
        "print('testing score',treeClass.score(x_test,y_test))\n",
        "\n",
        "# not plotted because the testing score is not better than what we can get from the knn algorithm"
      ],
      "metadata": {
        "colab": {
          "base_uri": "https://localhost:8080/"
        },
        "id": "UbQ23JHRr7NP",
        "outputId": "5d1c7f05-872b-4c0c-f4a9-827173386ee2"
      },
      "execution_count": null,
      "outputs": [
        {
          "output_type": "stream",
          "name": "stdout",
          "text": [
            "testing score 0.767875\n"
          ]
        }
      ]
    }
  ]
}